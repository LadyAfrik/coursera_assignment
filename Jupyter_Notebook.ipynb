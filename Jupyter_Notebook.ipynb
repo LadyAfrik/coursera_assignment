{
  "metadata": {
    "kernelspec": {
      "name": "python",
      "display_name": "Pyolite",
      "language": "python"
    },
    "language_info": {
      "codemirror_mode": {
        "name": "python",
        "version": 3
      },
      "file_extension": ".py",
      "mimetype": "text/x-python",
      "name": "python",
      "nbconvert_exporter": "python",
      "pygments_lexer": "ipython3",
      "version": "3.8"
    }
  },
  "nbformat_minor": 4,
  "nbformat": 4,
  "cells": [
    {
      "cell_type": "markdown",
      "source": "<center>\n    <img src=\"https://cf-courses-data.s3.us.cloud-object-storage.appdomain.cloud/IBMDeveloperSkillsNetwork-DS0105EN-SkillsNetwork/labs/Module2/images/SN_web_lightmode.png\" width=\"300\" alt=\"cognitiveclass.ai logo\">\n</center>\n",
      "metadata": {}
    },
    {
      "cell_type": "markdown",
      "source": "#### Add your code below following the instructions given in the course\n",
      "metadata": {}
    },
    {
      "cell_type": "markdown",
      "source": "<h1>My Jupyter Notebook on IBM Watson Studio<h1>",
      "metadata": {}
    },
    {
      "cell_type": "markdown",
      "source": "<b> Christianah Oyewale </b> <br>\nMachine Learning Engineer",
      "metadata": {}
    },
    {
      "cell_type": "markdown",
      "source": "<i>I am interested in Data Science because of how it cut across all fields. I love it's impact to the world</i>",
      "metadata": {}
    },
    {
      "cell_type": "markdown",
      "source": "<h3> The below code shows different arithmetic operations in python </h3>",
      "metadata": {}
    },
    {
      "cell_type": "code",
      "source": "print('The sum of 10 and 5 is: ',10+5)\nprint('The difference between 10 and 5 is: ',10-5)\nprint('The multiplication of 10 and 5 is: ',10*5)\nprint('The division of 10 by 5 is: ',10/5)\nprint('The modulus of 10 and 5 is: ',10%5)",
      "metadata": {
        "trusted": true
      },
      "execution_count": 26,
      "outputs": [
        {
          "name": "stdout",
          "text": "The sum of 10 and 5 is:  15\nThe difference between 10 and 5 is:  5\nThe multiplication of 10 and 5 is:  50\nThe division of 10 by 5 is:  2.0\nThe modulus of 10 and 5 is:  0\n",
          "output_type": "stream"
        }
      ]
    },
    {
      "cell_type": "markdown",
      "source": "I <strike>don't</strike> like this picture\n<img src=\"https://i.imgur.com/WWrydEh.png\" width =\"100\" height=100 >\n<p>I like the below food</p>",
      "metadata": {}
    },
    {
      "cell_type": "code",
      "source": "",
      "metadata": {},
      "execution_count": null,
      "outputs": []
    }
  ]
}